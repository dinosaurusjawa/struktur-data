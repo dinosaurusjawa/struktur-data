{
 "cells": [
  {
   "cell_type": "code",
   "execution_count": null,
   "metadata": {},
   "outputs": [],
   "source": []
  },
  {
   "cell_type": "code",
   "execution_count": 1,
   "metadata": {},
   "outputs": [
    {
     "name": "stdout",
     "output_type": "stream",
     "text": [
      "Index Array\n",
      "index array ke - [0] = 1\n",
      "index array ke - [1] = 10\n",
      "index array ke - [2] = 20\n",
      "index array ke - [3] = 30\n",
      "index array ke - [4] = 40\n"
     ]
    }
   ],
   "source": [
    "angka = [0] * 5\n",
    "\n",
    "angka[0] = 1\n",
    "angka[1] = 10\n",
    "angka[2] = 20\n",
    "angka[3] = 30\n",
    "angka[4] = 40\n",
    "\n",
    "print (\"Index Array\")\n",
    "for i in range(5):\n",
    "    print(\"index array ke - [{}] = {}\".format(i, angka[i]))\n",
    "    "
   ]
  },
  {
   "cell_type": "code",
   "execution_count": 2,
   "metadata": {},
   "outputs": [
    {
     "name": "stdout",
     "output_type": "stream",
     "text": [
      "Array Index\n",
      "index array ke - [0] = 1\n",
      "index array ke - [1] = 4\n",
      "index array ke - [2] = 9\n",
      "index array ke - [3] = 16\n",
      "index array ke - [4] = 25\n"
     ]
    }
   ],
   "source": [
    "array = [i ** 2 for i in range(1,6)]\n",
    "print(\"Array Index\")\n",
    "for i, num in enumerate(array):\n",
    "    print(\"index array ke - [{}] = {}\".format(i,num))"
   ]
  }
 ],
 "metadata": {
  "kernelspec": {
   "display_name": "Python 3",
   "language": "python",
   "name": "python3"
  },
  "language_info": {
   "codemirror_mode": {
    "name": "ipython",
    "version": 3
   },
   "file_extension": ".py",
   "mimetype": "text/x-python",
   "name": "python",
   "nbconvert_exporter": "python",
   "pygments_lexer": "ipython3",
   "version": "3.10.12"
  }
 },
 "nbformat": 4,
 "nbformat_minor": 2
}
