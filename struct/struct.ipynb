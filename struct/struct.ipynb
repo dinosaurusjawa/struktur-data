{
 "cells": [
  {
   "cell_type": "code",
   "execution_count": 4,
   "metadata": {},
   "outputs": [],
   "source": [
    "from collections import namedtuple\n"
   ]
  },
  {
   "cell_type": "code",
   "execution_count": 5,
   "metadata": {},
   "outputs": [],
   "source": [
    "Mahasiswa = namedtuple('Mahasiswa', ['name','age','address'])"
   ]
  },
  {
   "cell_type": "code",
   "execution_count": 6,
   "metadata": {},
   "outputs": [],
   "source": [
    "mhs = Mahasiswa(name=\"Marcel\", age=19, address=\"Kabupaten Tangerang\")"
   ]
  },
  {
   "cell_type": "code",
   "execution_count": 7,
   "metadata": {},
   "outputs": [
    {
     "name": "stdout",
     "output_type": "stream",
     "text": [
      "Name :  Marcel\n",
      "Age :  19\n",
      "Address :  Kabupaten Tangerang\n"
     ]
    }
   ],
   "source": [
    "print(\"Name : \", mhs.name)\n",
    "print(\"Age : \", mhs.age)\n",
    "print(\"Address : \", mhs.address)"
   ]
  },
  {
   "cell_type": "code",
   "execution_count": 8,
   "metadata": {},
   "outputs": [],
   "source": [
    "class Mahasiswa:\n",
    "    def __init__(self, name, age, address):\n",
    "        self.name = name\n",
    "        self.age = age\n",
    "        self.address = address\n",
    "\n",
    "mhs1= Mahasiswa(name=\"Marcel\", age=19, address=\"Kabupaten Tangenrang\")\n",
    "mhs2= Mahasiswa(name=\"Kevin\", age=19, address=\"Kabupaten Tangenrang\")"
   ]
  },
  {
   "cell_type": "code",
   "execution_count": 9,
   "metadata": {},
   "outputs": [
    {
     "name": "stdout",
     "output_type": "stream",
     "text": [
      "Name :  Marcel\n",
      "Age : 19\n",
      "Address :  Kabupaten Tangenrang\n",
      "Name :  Kevin\n",
      "Age : 19\n",
      "Address :  Kabupaten Tangenrang\n"
     ]
    }
   ],
   "source": [
    "print(\"Name : \", mhs1.name)\n",
    "print(\"Age :\", mhs1.age)\n",
    "print(\"Address : \", mhs1.address)\n",
    "print(\"Name : \", mhs2.name)\n",
    "print(\"Age :\", mhs2.age)\n",
    "print(\"Address : \", mhs2.address)"
   ]
  }
 ],
 "metadata": {
  "kernelspec": {
   "display_name": "Python 3",
   "language": "python",
   "name": "python3"
  },
  "language_info": {
   "codemirror_mode": {
    "name": "ipython",
    "version": 3
   },
   "file_extension": ".py",
   "mimetype": "text/x-python",
   "name": "python",
   "nbconvert_exporter": "python",
   "pygments_lexer": "ipython3",
   "version": "3.10.12"
  }
 },
 "nbformat": 4,
 "nbformat_minor": 2
}
